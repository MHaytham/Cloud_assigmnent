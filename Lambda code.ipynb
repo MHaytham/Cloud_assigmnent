{
  "nbformat": 4,
  "nbformat_minor": 0,
  "metadata": {
    "colab": {
      "provenance": []
    },
    "kernelspec": {
      "name": "python3",
      "display_name": "Python 3"
    },
    "language_info": {
      "name": "python"
    }
  },
  "cells": [
    {
      "cell_type": "code",
      "execution_count": 1,
      "metadata": {
        "colab": {
          "base_uri": "https://localhost:8080/",
          "height": 383
        },
        "id": "Gz_WR87BsBp8",
        "outputId": "f7f53675-a05f-40c7-e6c9-a8e6809580ba"
      },
      "outputs": [
        {
          "output_type": "error",
          "ename": "ModuleNotFoundError",
          "evalue": "No module named 'boto3'",
          "traceback": [
            "\u001b[0;31m---------------------------------------------------------------------------\u001b[0m",
            "\u001b[0;31mModuleNotFoundError\u001b[0m                       Traceback (most recent call last)",
            "\u001b[0;32m<ipython-input-1-e7f27cc0c9bd>\u001b[0m in \u001b[0;36m<cell line: 0>\u001b[0;34m()\u001b[0m\n\u001b[1;32m      1\u001b[0m \u001b[0;32mimport\u001b[0m \u001b[0mjson\u001b[0m\u001b[0;34m\u001b[0m\u001b[0;34m\u001b[0m\u001b[0m\n\u001b[0;32m----> 2\u001b[0;31m \u001b[0;32mimport\u001b[0m \u001b[0mboto3\u001b[0m\u001b[0;34m\u001b[0m\u001b[0;34m\u001b[0m\u001b[0m\n\u001b[0m\u001b[1;32m      3\u001b[0m \u001b[0;32mfrom\u001b[0m \u001b[0mbotocore\u001b[0m\u001b[0;34m.\u001b[0m\u001b[0mexceptions\u001b[0m \u001b[0;32mimport\u001b[0m \u001b[0mClientError\u001b[0m\u001b[0;34m\u001b[0m\u001b[0;34m\u001b[0m\u001b[0m\n\u001b[1;32m      4\u001b[0m \u001b[0;32mfrom\u001b[0m \u001b[0mdatetime\u001b[0m \u001b[0;32mimport\u001b[0m \u001b[0mdatetime\u001b[0m\u001b[0;34m\u001b[0m\u001b[0;34m\u001b[0m\u001b[0m\n\u001b[1;32m      5\u001b[0m \u001b[0;34m\u001b[0m\u001b[0m\n",
            "\u001b[0;31mModuleNotFoundError\u001b[0m: No module named 'boto3'",
            "",
            "\u001b[0;31m---------------------------------------------------------------------------\u001b[0;32m\nNOTE: If your import is failing due to a missing package, you can\nmanually install dependencies using either !pip or !apt.\n\nTo view examples of installing some common dependencies, click the\n\"Open Examples\" button below.\n\u001b[0;31m---------------------------------------------------------------------------\u001b[0m\n"
          ],
          "errorDetails": {
            "actions": [
              {
                "action": "open_url",
                "actionText": "Open Examples",
                "url": "/notebooks/snippets/importing_libraries.ipynb"
              }
            ]
          }
        }
      ],
      "source": [
        "import json\n",
        "import boto3\n",
        "from botocore.exceptions import ClientError\n",
        "from datetime import datetime\n",
        "\n",
        "# Initialize DynamoDB client with explicit region\n",
        "dynamodb = boto3.resource('dynamodb', region_name='eu-north-1')  # Stockholm region\n",
        "table = dynamodb.Table('Orders')\n",
        "\n",
        "def lambda_handler(event, context):\n",
        "    # Debug: Print incoming event\n",
        "    print(f\"📨 Incoming event: {json.dumps(event)}\")\n",
        "\n",
        "    # Validate event structure\n",
        "    if 'Records' not in event:\n",
        "        error_msg = \"⚠️ Invalid event format: No 'Records' found\"\n",
        "        print(error_msg)\n",
        "        return {\n",
        "            'statusCode': 400,\n",
        "            'body': json.dumps({'error': error_msg})\n",
        "        }\n",
        "\n",
        "    # Process each record\n",
        "    for record in event['Records']:\n",
        "        try:\n",
        "            # Debug: Print raw record\n",
        "            print(f\"📝 Processing record: {record}\")\n",
        "\n",
        "            # Step 1: Parse message body\n",
        "            try:\n",
        "                body = json.loads(record['body'])\n",
        "                print(f\"🔍 Parsed body: {body}\")\n",
        "            except json.JSONDecodeError as e:\n",
        "                error_msg = f\"⚠️ JSON decode error: {str(e)}\"\n",
        "                print(error_msg)\n",
        "                continue\n",
        "\n",
        "            # Step 2: Handle SNS message unwrapping\n",
        "            try:\n",
        "                message = json.loads(body['Message']) if 'Message' in body else body\n",
        "                print(f\"📦 Unwrapped message: {message}\")\n",
        "            except json.JSONDecodeError as e:\n",
        "                error_msg = f\"⚠️ SNS message unwrap error: {str(e)}\"\n",
        "                print(error_msg)\n",
        "                continue\n",
        "\n",
        "            # Step 3: Validate required fields\n",
        "            required_fields = ['orderId', 'userId', 'itemName', 'quantity', 'status', 'timestamp']\n",
        "            if not all(field in message for field in required_fields):\n",
        "                missing = [field for field in required_fields if field not in message]\n",
        "                error_msg = f\"⚠️ Missing required fields: {missing}\"\n",
        "                print(error_msg)\n",
        "                continue\n",
        "\n",
        "            # Step 4: Validate data types\n",
        "            try:\n",
        "                quantity = int(message['quantity'])\n",
        "                # Validate ISO 8601 timestamp format\n",
        "                datetime.strptime(message['timestamp'], \"%Y-%m-%dT%H:%M:%SZ\")\n",
        "            except ValueError as e:\n",
        "                error_msg = f\"⚠️ Invalid data format: {str(e)}\"\n",
        "                print(error_msg)\n",
        "                continue\n",
        "\n",
        "            # Step 5: Write to DynamoDB\n",
        "            try:\n",
        "                # First verify table exists\n",
        "                table.load()\n",
        "                print(f\"✔️ Table {table.name} exists in {table.meta.client.meta.region_name}\")\n",
        "\n",
        "                # Put item\n",
        "                response = table.put_item(\n",
        "                    Item={\n",
        "                        'orderId': message['orderId'],\n",
        "                        'userId': message['userId'],\n",
        "                        'itemName': message['itemName'],\n",
        "                        'quantity': quantity,\n",
        "                        'status': message['status'],\n",
        "                        'timestamp': message['timestamp']\n",
        "                    },\n",
        "                    ReturnValues='NONE'\n",
        "                )\n",
        "                success_msg = f\"✅ Successfully processed order {message['orderId']}\"\n",
        "                print(success_msg)\n",
        "                print(f\"📊 DynamoDB response: {response}\")\n",
        "\n",
        "            except ClientError as e:\n",
        "                error_code = e.response['Error']['Code']\n",
        "                error_msg = f\"❌ DynamoDB error ({error_code}): {e.response['Error']['Message']}\"\n",
        "                print(error_msg)\n",
        "                if error_code == 'ResourceNotFoundException':\n",
        "                    print(\"💡 Solution: Verify table name and region match exactly\")\n",
        "                continue\n",
        "\n",
        "        except Exception as e:  # This was the line with missing colon\n",
        "            error_msg = f\"⚠️ Unexpected error processing record: {str(e)}\"\n",
        "            print(error_msg)\n",
        "            continue\n",
        "\n",
        "    return {\n",
        "        'statusCode': 200,\n",
        "        'body': json.dumps({'message': 'Processing complete'})\n",
        "    }"
      ]
    }
  ]
}